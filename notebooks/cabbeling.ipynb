{
 "cells": [
  {
   "cell_type": "markdown",
   "metadata": {},
   "source": [
    "# Cabbeling simulation\n",
    "\n",
    "Convection driven by density gradients appearing because of the mixing of\n",
    "cold and hot water at the same denisty. This is cause by the nonlinearity of the equation of state of water.\n",
    "We start with a stable fluid, with hot water (7.55ᵒ C) above cold water (1ᵒ C).\n",
    "The fluid is initially at rest because the density is constant in the domain, but mixing of cold and hot water\n",
    "generates temperatures that correspond to higher density (the maximum density of fresh water is at 4ᵒ C) and\n",
    "the mixed water starts to sink."
   ]
  },
  {
   "cell_type": "code",
   "execution_count": null,
   "metadata": {},
   "outputs": [
    {
     "name": "stderr",
     "output_type": "stream",
     "text": [
      "\u001b[32m\u001b[1m    Updating\u001b[22m\u001b[39m git-repo `https://github.com/CliMA/Oceananigans.jl.git`\n",
      "\u001b[32m\u001b[1m   Resolving\u001b[22m\u001b[39m package versions...\n",
      "\u001b[32m\u001b[1m    Updating\u001b[22m\u001b[39m `~/.julia/environments/v1.10/Project.toml`\n",
      "  \u001b[90m[9e8cae18] \u001b[39m\u001b[93m~ Oceananigans v0.95.7 `https://github.com/CliMA/Oceananigans.jl.git#ss/for-drakkar` ⇒ v0.95.7 `https://github.com/CliMA/Oceananigans.jl.git#ss/for-drakkar`\u001b[39m\n",
      "\u001b[32m\u001b[1m    Updating\u001b[22m\u001b[39m `~/.julia/environments/v1.10/Manifest.toml`\n",
      "  \u001b[90m[9e8cae18] \u001b[39m\u001b[93m~ Oceananigans v0.95.7 `https://github.com/CliMA/Oceananigans.jl.git#ss/for-drakkar` ⇒ v0.95.7 `https://github.com/CliMA/Oceananigans.jl.git#ss/for-drakkar`\u001b[39m\n",
      "\u001b[33m\u001b[1m┌ \u001b[22m\u001b[39m\u001b[33m\u001b[1mWarning: \u001b[22m\u001b[39mCircular dependency detected. Precompilation will be skipped for:\n",
      "\u001b[33m\u001b[1m│ \u001b[22m\u001b[39m  StaticArrayInterface [0d7ed370-da01-4f52-bd93-41d350b8b718]\n",
      "\u001b[33m\u001b[1m│ \u001b[22m\u001b[39m  KernelAbstractions [63c18a36-062a-441e-b654-da1e3ab1ce7c]\n",
      "\u001b[33m\u001b[1m│ \u001b[22m\u001b[39m  LoopVectorization [bdcacae8-1622-11e9-2a5c-532679323890]\n",
      "\u001b[33m\u001b[1m│ \u001b[22m\u001b[39m  RainMaker [ce1e5628-4095-449b-8858-623a1e420393]\n",
      "\u001b[33m\u001b[1m│ \u001b[22m\u001b[39m  LayoutPointers [10f19ff3-798f-405d-979b-55457f8fc047]\n",
      "\u001b[33m\u001b[1m│ \u001b[22m\u001b[39m  CUDAExt [11b7e2e0-d079-575b-885e-0ab22ef3252c]\n",
      "\u001b[33m\u001b[1m│ \u001b[22m\u001b[39m  SpecialFunctionsExt [499d2952-c3ce-5339-96ee-b197ee6daaa6]\n",
      "\u001b[33m\u001b[1m│ \u001b[22m\u001b[39m  ChainRulesCoreExt [eae2faf6-b232-58cb-a410-7764fda2830c]\n",
      "\u001b[33m\u001b[1m│ \u001b[22m\u001b[39m  StaticArrayInterfaceOffsetArraysExt [a8fab69c-de6f-5f74-aba3-bef19c2d033f]\n",
      "\u001b[33m\u001b[1m│ \u001b[22m\u001b[39m  OceananigansMakieExt [8b7e02c2-18e1-5ade-af7b-cfb5875075c8]\n",
      "\u001b[33m\u001b[1m│ \u001b[22m\u001b[39m  Symbolics [0c5d862f-8b57-4792-8d23-62f2024744c7]\n",
      "\u001b[33m\u001b[1m│ \u001b[22m\u001b[39m  SpeedyWeatherCUDAExt [6a391560-0780-5311-8181-58d371f98820]\n",
      "\u001b[33m\u001b[1m│ \u001b[22m\u001b[39m  SpecialFunctionsExt [1285c0f1-ff9f-5867-b66e-0f359bcf09ba]\n",
      "\u001b[33m\u001b[1m│ \u001b[22m\u001b[39m  TiledIteration [06e1c1a7-607b-532d-9fad-de7d9aa2abac]\n",
      "\u001b[33m\u001b[1m│ \u001b[22m\u001b[39m  SpeedyWeatherGeoMakieExt [e8a06b79-132c-5f7f-a25c-66406c5f936d]\n",
      "\u001b[33m\u001b[1m│ \u001b[22m\u001b[39m  CUDA [052768ef-5323-5732-b1bb-66c8b64840ba]\n",
      "\u001b[33m\u001b[1m│ \u001b[22m\u001b[39m  SparseArraysExt [85068d23-b5fb-53f1-8204-05c2aba6942f]\n",
      "\u001b[33m\u001b[1m│ \u001b[22m\u001b[39m  AtomixCUDAExt [13011619-4c7c-5ef0-948f-5fc81565cd05]\n",
      "\u001b[33m\u001b[1m│ \u001b[22m\u001b[39m  StaticArrayInterfaceStaticArraysExt [06b0261c-7a9b-5753-9bdf-fd6840237b4a]\n",
      "\u001b[33m\u001b[1m│ \u001b[22m\u001b[39m  SciMLBasePyCallExt [d083c4ab-32a5-5342-b289-e118b48fb79d]\n",
      "\u001b[33m\u001b[1m│ \u001b[22m\u001b[39m  SciMLStructures [53ae85a6-f571-4167-b2af-e1d143709226]\n",
      "\u001b[33m\u001b[1m│ \u001b[22m\u001b[39m  RecursiveArrayToolsForwardDiffExt [14203109-85fb-5f77-af23-1cb7d9032242]\n",
      "\u001b[33m\u001b[1m│ \u001b[22m\u001b[39m  SciMLOperatorsStaticArraysCoreExt [a2df0a61-553a-563b-aed7-0ce21874eb58]\n",
      "\u001b[33m\u001b[1m│ \u001b[22m\u001b[39m  SciMLBase [0bca4576-84f4-4d90-8ffe-ffa030f20462]\n",
      "\u001b[33m\u001b[1m│ \u001b[22m\u001b[39m  OrthogonalSphericalShellGrids [c2be9673-fb75-4747-82dc-aa2bb9f4aed0]\n",
      "\u001b[33m\u001b[1m│ \u001b[22m\u001b[39m  SpeedyWeather [9e226e20-d153-4fed-8a5b-493def4f21a9]\n",
      "\u001b[33m\u001b[1m│ \u001b[22m\u001b[39m  ClimaOcean [0376089a-ecfe-4b0e-a64f-9c555d74d754]\n",
      "\u001b[33m\u001b[1m│ \u001b[22m\u001b[39m  LinearAlgebraExt [66d79d19-2cc4-5b0b-ac7a-b340256d1ecd]\n",
      "\u001b[33m\u001b[1m│ \u001b[22m\u001b[39m  EnzymeExt [6425d1ab-ad86-5f6e-82f1-f5118e0dc800]\n",
      "\u001b[33m\u001b[1m│ \u001b[22m\u001b[39m  SciMLBaseChainRulesCoreExt [4676cac9-c8e0-5d6e-a4e0-e3351593cdf5]\n",
      "\u001b[33m\u001b[1m│ \u001b[22m\u001b[39m  SciMLBaseMakieExt [565f26a4-c902-5eae-92ad-e10714a9d9de]\n",
      "\u001b[33m\u001b[1m│ \u001b[22m\u001b[39m  SymbolicUtils [d1185830-fcd6-423d-90d6-eec64667417b]\n",
      "\u001b[33m\u001b[1m│ \u001b[22m\u001b[39m  SymbolicsForwardDiffExt [4a213a23-c09c-5cde-9712-b631ad2c72df]\n",
      "\u001b[33m\u001b[1m│ \u001b[22m\u001b[39m  SciMLOperators [c0aeaf25-5076-4817-a8d5-81caf7dfa961]\n",
      "\u001b[33m\u001b[1m│ \u001b[22m\u001b[39m  Thermodynamics [b60c26fb-14c3-4610-9d3e-2d17fe7ff00c]\n",
      "\u001b[33m\u001b[1m│ \u001b[22m\u001b[39m  RecursiveArrayTools [731186ca-8d62-57ce-b412-fbd966d074cd]\n",
      "\u001b[33m\u001b[1m│ \u001b[22m\u001b[39m  ForwardDiffExt [4b8ca102-9d0f-5df8-84ed-253e0f005ba7]\n",
      "\u001b[33m\u001b[1m│ \u001b[22m\u001b[39m  RecursiveArrayToolsStructArraysExt [07510ace-05c5-59ac-8535-cc0df8d4a157]\n",
      "\u001b[33m\u001b[1m│ \u001b[22m\u001b[39m  RecursiveArrayToolsSparseArraysExt [73e54eaf-3344-511d-b088-1ac5413eca63]\n",
      "\u001b[33m\u001b[1m│ \u001b[22m\u001b[39m  ArrayInterfaceCUDAExt [f78586ac-ba87-5ec7-b3a5-84bc1b258ee3]\n",
      "\u001b[33m\u001b[1m│ \u001b[22m\u001b[39m  SLEEFPirates [476501e8-09a2-5ece-8869-fb82de89a1fa]\n",
      "\u001b[33m\u001b[1m│ \u001b[22m\u001b[39m  CloseOpenIntervals [fb6a15b2-703c-40df-9091-08a04967cfa9]\n",
      "\u001b[33m\u001b[1m│ \u001b[22m\u001b[39m  VectorizationBase [3d5dd08c-fd9d-11e8-17fa-ed2836048c2f]\n",
      "\u001b[33m\u001b[1m│ \u001b[22m\u001b[39m  SpeedyWeatherMakieExt [5b33269b-99f4-5abe-8178-09ad803418e6]\n",
      "\u001b[33m\u001b[1m│ \u001b[22m\u001b[39m  ImageMorphology [787d08f9-d448-5407-9aad-5290dd7ab264]\n",
      "\u001b[33m\u001b[1m│ \u001b[22m\u001b[39m  OceananigansEnzymeExt [7c3be49e-0a10-5749-8bc6-76d69b002d48]\n",
      "\u001b[33m\u001b[1m│ \u001b[22m\u001b[39m  SymbolicLimits [19f23fe9-fdab-4a78-91af-e7b7767979c3]\n",
      "\u001b[33m\u001b[1m│ \u001b[22m\u001b[39m  EnzymeCoreExt [c3ed20f3-746d-5a71-99a7-df1cca8c2b90]\n",
      "\u001b[33m\u001b[1m│ \u001b[22m\u001b[39m  SurfaceFluxes [49b00bb7-8bd4-4f2b-b78c-51cd0450215f]\n",
      "\u001b[33m\u001b[1m│ \u001b[22m\u001b[39m  Oceananigans [9e8cae18-63c1-5223-a75c-80ca9d6e9a09]\n",
      "\u001b[33m\u001b[1m│ \u001b[22m\u001b[39m  SymbolicIndexingInterface [2efcf032-c050-4f8e-a9bb-153293bab1f5]\n",
      "\u001b[33m\u001b[1m│ \u001b[22m\u001b[39m  SciMLOperatorsSparseArraysExt [9985400b-97ec-5583-b534-4f70b643bcf7]\n",
      "\u001b[33m\u001b[1m│ \u001b[22m\u001b[39m  ClimaSeaIce [6ba0ff68-24e6-4315-936c-2e99227c95a4]\n",
      "\u001b[33m\u001b[1m└ \u001b[22m\u001b[39m\u001b[90m@ Pkg.API ~/.julia/juliaup/julia-1.10.7+0.aarch64.apple.darwin14/share/julia/stdlib/v1.10/Pkg/src/API.jl:1279\u001b[39m\n",
      "\u001b[32m\u001b[1mPrecompiling\u001b[22m\u001b[39m project...\n",
      "\u001b[91m  ✗ \u001b[39m\u001b[90mJSON3\u001b[39m\n",
      "\u001b[91m  ✗ \u001b[39m\u001b[90mGeoJSON\u001b[39m\n",
      "\u001b[32m  ✓ \u001b[39m\u001b[90mUnicodePlots\u001b[39m\n",
      "\u001b[32m  ✓ \u001b[39m\u001b[90mTiffImages\u001b[39m\n",
      "\u001b[32m  ✓ \u001b[39m\u001b[90mUnicodePlots → IntervalSetsExt\u001b[39m\n",
      "\u001b[32m  ✓ \u001b[39m\u001b[90mUnicodePlots → FreeTypeExt\u001b[39m\n",
      "\u001b[32m  ✓ \u001b[39m\u001b[90mUnicodePlots → UnitfulExt\u001b[39m\n",
      "\u001b[32m  ✓ \u001b[39m\u001b[90mMakie\u001b[39m\n"
     ]
    }
   ],
   "source": [
    "using Pkg\n",
    "Pkg.activate(\"./\")\n",
    "pkg\"add Oceananigans#ss/for-drakkar\"\n",
    "pkg\"add SeawaterPolynomials\"\n",
    "pkg\"add CairoMakie\"\n",
    "pkg\"add FileIO\"\n",
    "\n",
    "using Oceananigans\n",
    "using Oceananigans.Models: seawater_density\n",
    "using SeawaterPolynomials: TEOS10EquationOfState"
   ]
  },
  {
   "cell_type": "markdown",
   "metadata": {},
   "source": [
    "We run this example on a CPU.\n",
    "To run it on a GPU, replace `CPU()` with `GPU()` and crank up the resolution!"
   ]
  },
  {
   "cell_type": "code",
   "execution_count": null,
   "metadata": {},
   "outputs": [],
   "source": [
    "arch = CPU()"
   ]
  },
  {
   "cell_type": "markdown",
   "metadata": {},
   "source": [
    "We start with defining a 2D grid in the x-z plane with 512x256 grid points.\n",
    "This is not enough to resolve the Kolmogorov scale so we are in an LES regime"
   ]
  },
  {
   "cell_type": "code",
   "execution_count": null,
   "metadata": {},
   "outputs": [],
   "source": [
    "Nx, Ny = 256, 256\n",
    "grid = RectilinearGrid(arch,\n",
    "                       size = (Nx, Ny),\n",
    "                       x = (0, 0.5),\n",
    "                       z = (-0.5, 0.0),\n",
    "                       topology = (Bounded, Flat, Bounded))"
   ]
  },
  {
   "cell_type": "markdown",
   "metadata": {},
   "source": [
    "We use the TEOS10 equation of state to compute the density of seawater.\n",
    "This is a nonlinear equation of state that depends on temperature, salinity and pressure.\n",
    "We set the salinity to zero and the gravitational acceleration to 9.81 m/s²."
   ]
  },
  {
   "cell_type": "code",
   "execution_count": null,
   "metadata": {},
   "outputs": [],
   "source": [
    "equation_of_state = TEOS10EquationOfState(reference_density=1000)\n",
    "buoyancy = SeawaterBuoyancy(; equation_of_state,\n",
    "                              constant_salinity=0,\n",
    "                              gravitational_acceleration=9.81)"
   ]
  },
  {
   "cell_type": "markdown",
   "metadata": {},
   "source": [
    "Since we are in an LES regime we need a LES closure. In this case we use a high-order WENO\n",
    "scheme to provide us the implicit diffusion necessary to represent subgrid-scale diffusion in\n",
    "the model. Other options would include an explicit closure like\n",
    "the Smagorinsky model (`closure = AnisotropicMinimumDissipation()`)."
   ]
  },
  {
   "cell_type": "code",
   "execution_count": null,
   "metadata": {},
   "outputs": [],
   "source": [
    "model = NonhydrostaticModel(; grid,\n",
    "                              buoyancy,\n",
    "                              advection=WENO(order=7),\n",
    "                              tracers=:T)"
   ]
  },
  {
   "cell_type": "markdown",
   "metadata": {},
   "source": [
    "Setting the initial conditions to an unstable equilibrium with hot water above (and below) cold water.\n",
    "and some random perturbations in the velocity field to trigger the instability.\n",
    "To give it a nice spin, let's initialize the temperature field with the Drakkar Ocean logo."
   ]
  },
  {
   "cell_type": "code",
   "execution_count": null,
   "metadata": {},
   "outputs": [],
   "source": [
    "T₁, T₂ = 1, 7.55 # ᵒC\n",
    "Ξᵢ = (x, z) -> 1e-4 * randn()\n",
    "\n",
    "using FileIO\n",
    "\n",
    "download(\"https://drakkar2025.sciencesconf.org/data/header/DrakkarOcean_1.png\", \"logo-drakkar.png\")\n",
    "\n",
    "img   = FileIO.load(\"logo-drakkar.png\")\n",
    "alpha = getproperty.(img, :alpha) .|> Float64\n",
    "alpha = reverse(alpha', dims=2)\n",
    "alpha = alpha[1:2:end, 1:2:end]\n",
    "borderx = zeros((256 - size(alpha, 1)) ÷ 2, size(alpha, 2))\n",
    "alpha   = vcat(borderx, alpha, borderx)\n",
    "bordery = zeros(size(alpha, 1), (256 - size(alpha, 2)) ÷ 2)\n",
    "alpha   = hcat(bordery, alpha, bordery)\n",
    "\n",
    "Tᵢ = [ifelse(alpha[i, j] == 0, T₁, T₂) for i in 1:Nx, j in 1:Ny]\n",
    "\n",
    "set!(model, T=Tᵢ, u=Ξᵢ, v=Ξᵢ, w=Ξᵢ)"
   ]
  },
  {
   "cell_type": "markdown",
   "metadata": {},
   "source": [
    "We set the time step to 0.2 seconds and the stop time to 100 seconds."
   ]
  },
  {
   "cell_type": "code",
   "execution_count": null,
   "metadata": {},
   "outputs": [],
   "source": [
    "simulation = Simulation(model; Δt = 0.1, stop_time=100)"
   ]
  },
  {
   "cell_type": "markdown",
   "metadata": {},
   "source": [
    "We add a callback to print the progress of the simulation every 10 iterations."
   ]
  },
  {
   "cell_type": "code",
   "execution_count": null,
   "metadata": {},
   "outputs": [],
   "source": [
    "function progress(sim)\n",
    "    u, v, w = sim.model.velocities\n",
    "    @info string(\"Iter: \", iteration(sim), \", time: \", prettytime(sim), \", max(w): \", maximum(abs, w))\n",
    "end\n",
    "\n",
    "add_callback!(simulation, progress, IterationInterval(10))"
   ]
  },
  {
   "cell_type": "markdown",
   "metadata": {},
   "source": [
    "We use a variable time-stepping to make sure we don't overshoot the CFL condition."
   ]
  },
  {
   "cell_type": "code",
   "execution_count": null,
   "metadata": {},
   "outputs": [],
   "source": [
    "conjure_time_step_wizard!(simulation, cfl=0.7)"
   ]
  },
  {
   "cell_type": "markdown",
   "metadata": {},
   "source": [
    "Let's set an output writer to collect the density and temperature fields every second."
   ]
  },
  {
   "cell_type": "code",
   "execution_count": null,
   "metadata": {},
   "outputs": [],
   "source": [
    "ρ = seawater_density(model)\n",
    "T = model.tracers.T\n",
    "\n",
    "output_writer = JLD2OutputWriter(model, (; ρ, T),\n",
    "                                 filename = \"cabbeling\",\n",
    "                                 schedule = TimeInterval(1),\n",
    "                                 overwrite_existing = true)\n",
    "\n",
    "simulation.output_writers[:jld2] = output_writer"
   ]
  },
  {
   "cell_type": "markdown",
   "metadata": {},
   "source": [
    "Running the simulation!"
   ]
  },
  {
   "cell_type": "code",
   "execution_count": null,
   "metadata": {},
   "outputs": [],
   "source": [
    "run!(simulation)"
   ]
  },
  {
   "cell_type": "markdown",
   "metadata": {},
   "source": [
    "## Visualizing the simulation\n",
    "\n",
    "Let's use Makie to visualize the density and temperature fields in the x-z plane."
   ]
  },
  {
   "cell_type": "code",
   "execution_count": null,
   "metadata": {},
   "outputs": [],
   "source": [
    "using CairoMakie\n",
    "\n",
    "ρt = FieldTimeSeries(\"cabbeling.jld2\", \"ρ\")\n",
    "Tt = FieldTimeSeries(\"cabbeling.jld2\", \"T\")\n",
    "\n",
    "Nt = length(ρt)\n",
    "Nx = size(ρt, 1)\n",
    "\n",
    "i = Int(Nx / 2)\n",
    "n = Observable(length(ρt.times))\n",
    "ρ = @lift interior(ρt[$n], :, 1, :)\n",
    "T = @lift interior(Tt[$n], :, 1, :)\n",
    "x, y, z = nodes(ρt)\n",
    "\n",
    "set_theme!(Theme(fontsize=12))\n",
    "fig = Figure(size=(1000, 500))\n",
    "\n",
    "ρrange = (minimum(ρt[1]), maximum(ρt))\n",
    "\n",
    "axT = Axis(fig[1, 2], xlabel=\"x (m)\", ylabel=\"z (m)\")\n",
    "xlims!(axT,  0, 0.5)\n",
    "ylims!(axT, -0.5, 0)\n",
    "\n",
    "axρ = Axis(fig[1, 3], xlabel=\"x (m)\", ylabel=\"z (m)\")\n",
    "xlims!(axρ,  0, 0.5)\n",
    "ylims!(axρ, -0.5, 0)\n",
    "\n",
    "hm = heatmap!(axT, x, z, T, colormap=:magma, colorrange=(1.55, 7))\n",
    "Colorbar(fig[1, 1], hm, label=\"Temperature (ᵒC)\", flipaxis=false)\n",
    "\n",
    "hm = heatmap!(axρ, x, z, ρ, colormap=Makie.Reverse(:grays), colorrange=ρrange)\n",
    "Colorbar(fig[1, 4], hm, label=\"Density (kg m⁻³)\")\n",
    "\n",
    "record(fig, \"cabbeling_2d.mp4\", 1:Nt, framerate=5) do nn\n",
    "    @info \"Drawing frame $nn of $Nt...\"\n",
    "    n[] = nn\n",
    "end"
   ]
  },
  {
   "cell_type": "markdown",
   "metadata": {},
   "source": [
    "---\n",
    "\n",
    "*This notebook was generated using [Literate.jl](https://github.com/fredrikekre/Literate.jl).*"
   ]
  }
 ],
 "metadata": {
  "kernelspec": {
   "display_name": "Julia multiple threads 1.10.7",
   "language": "julia",
   "name": "julia-multiple-threads-1.10"
  },
  "language_info": {
   "file_extension": ".jl",
   "mimetype": "application/julia",
   "name": "julia",
   "version": "1.10.7"
  }
 },
 "nbformat": 4,
 "nbformat_minor": 4
}
